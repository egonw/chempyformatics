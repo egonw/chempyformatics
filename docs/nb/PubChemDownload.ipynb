{
 "cells": [
  {
   "cell_type": "markdown",
   "id": "c64a041e",
   "metadata": {},
   "source": [
    "\n",
    "# Installing dependencies\n",
    "\n",
    "To use the Chemistry Development Kit (CDK) in Python you need scyjava, maven, and OpenJDK 11.\n",
    "This code only needs to be run once and is to prepare the system. If you already have\n",
    "this software installed, you can skip this step.\n"
   ]
  },
  {
   "cell_type": "code",
   "execution_count": null,
   "id": "1107d91c",
   "metadata": {},
   "outputs": [],
   "source": [
    "!apt install maven openjdk-11-jdk\n",
    "!pip install scyjava\n"
   ]
  },
  {
   "cell_type": "markdown",
   "id": "be18a6d9",
   "metadata": {},
   "source": [
    "\n",
    "# Running the CDK code\n",
    "\n",
    "The following code imports the CDK library (and downloads it in the background from\n",
    "Maven Central if needed), and then runs the code for this example.\n"
   ]
  },
  {
   "cell_type": "code",
   "execution_count": null,
   "id": "321a8d7e",
   "metadata": {
    "collapsed": false
   },
   "outputs": [],
   "source": [
    "from scyjava import config, jimport\n",
    "config.endpoints.append('org.openscience.cdk:cdk-bundle:2.9')\n",
    "URL = jimport('java.net.URL')\n",
    "SilentChemObjectBuilder = jimport('org.openscience.cdk.silent.SilentChemObjectBuilder')\n",
    "PCCompoundXMLReader = jimport('org.openscience.cdk.io.PCCompoundXMLReader')\n",
    "\n",
    "cid = 5282253\n",
    "reader = PCCompoundXMLReader(\n",
    "  URL(\n",
    "    \"https://pubchem.ncbi.nlm.nih.gov/summary/summary.cgi?cid=\" + str(cid) +\n",
    "    \"&disopt=SaveXML\"\n",
    "  ).openStream()\n",
    ")\n",
    "mol = reader.read(SilentChemObjectBuilder.getInstance().newAtomContainer())\n",
    "print(\"CID: {}\".format(mol.getProperty(\"PubChem CID\")))\n",
    "print(f\"Atom count: {mol.getAtomCount()}\")"
   ]
  }
 ],
 "metadata": {},
 "nbformat": 4,
 "nbformat_minor": 5
}
