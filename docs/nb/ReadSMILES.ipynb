{
 "cells": [
  {
   "cell_type": "markdown",
   "id": "e6a31a36",
   "metadata": {},
   "source": [
    "\n",
    "# Installing dependencies\n",
    "\n",
    "To use the Chemistry Development Kit (CDK) in Python you need scyjava, maven, and OpenJDK 11.\n",
    "This code only needs to be run once and is to prepare the system. If you already have\n",
    "this software installed, you can skip this step.\n"
   ]
  },
  {
   "cell_type": "code",
   "execution_count": null,
   "id": "a295b3a7",
   "metadata": {},
   "outputs": [],
   "source": [
    "!apt install maven openjdk-11-jdk\n",
    "!pip install scyjava\n"
   ]
  },
  {
   "cell_type": "markdown",
   "id": "f7cd2b63",
   "metadata": {},
   "source": [
    "\n",
    "# Running the CDK code\n",
    "\n",
    "The following code imports the CDK library (and downloads it in the background from\n",
    "Maven Central if needed), and then runs the code for this example.\n"
   ]
  },
  {
   "cell_type": "code",
   "execution_count": null,
   "id": "e25ae8f4",
   "metadata": {
    "collapsed": false
   },
   "outputs": [],
   "source": [
    "from scyjava import config, jimport\n",
    "config.endpoints.append('org.openscience.cdk:cdk-bundle:2.9')\n",
    "SmilesParser = jimport('org.openscience.cdk.smiles.SmilesParser')\n",
    "Builder = jimport('org.openscience.cdk.silent.SilentChemObjectBuilder')\n",
    "\n",
    "sp = SmilesParser(Builder.getInstance())\n",
    "mol = sp.parseSmiles(\"CC(=O)OC1=CC=CC=C1C(=O)O\")\n",
    "print(f\"Aspirin has {mol.getAtomCount()} atoms.\")"
   ]
  }
 ],
 "metadata": {},
 "nbformat": 4,
 "nbformat_minor": 5
}
