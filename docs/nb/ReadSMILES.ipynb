{
 "cells": [
  {
   "cell_type": "markdown",
   "id": "84885604",
   "metadata": {},
   "source": [
    "\n",
    "# Installing dependencies\n",
    "\n",
    "To use the Chemistry Development Kit (CDK) in Python you need scyjava, maven, and OpenJDK 11.\n",
    "This code only needs to be run once and is to prepare the system. If you already have\n",
    "this software installed, you can skip this step.\n"
   ]
  },
  {
   "cell_type": "code",
   "execution_count": null,
   "id": "aa4f07f0",
   "metadata": {},
   "outputs": [],
   "source": [
    "!apt install maven openjdk-11-jdk\n",
    "!pip install scyjava\n"
   ]
  },
  {
   "cell_type": "markdown",
   "id": "0c53bc93",
   "metadata": {},
   "source": [
    "\n",
    "# Running the CDK code\n",
    "\n",
    "The following code imports the CDK library (and downloads it in the background from\n",
    "Maven Central if needed), and then runs the code for this example.\n"
   ]
  },
  {
   "cell_type": "code",
   "execution_count": null,
   "id": "da691fb4",
   "metadata": {
    "collapsed": false
   },
   "outputs": [],
   "source": [
    "from scyjava import config, jimport\n",
    "config.endpoints.append('org.openscience.cdk:cdk-bundle:2.9')\n",
    "SmilesParser = jimport('org.openscience.cdk.smiles.SmilesParser')\n",
    "Builder = jimport('org.openscience.cdk.silent.SilentChemObjectBuilder')\n",
    "\n",
    "sp = SmilesParser(Builder.getInstance())\n",
    "mol = sp.parseSmiles(\"CC(=O)OC1=CC=CC=C1C(=O)O\")\n",
    "print(f\"Aspirin has {mol.getAtomCount()} atoms.\")"
   ]
  }
 ],
 "metadata": {},
 "nbformat": 4,
 "nbformat_minor": 5
}
