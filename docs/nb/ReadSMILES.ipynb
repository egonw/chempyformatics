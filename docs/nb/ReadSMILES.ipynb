{
 "cells": [
  {
   "cell_type": "code",
   "execution_count": null,
   "id": "6e7fab4e",
   "metadata": {},
   "outputs": [],
   "source": [
    "!apt install maven"
   ]
  },
  {
   "cell_type": "code",
   "execution_count": null,
   "id": "d82ced9c",
   "metadata": {},
   "outputs": [],
   "source": [
    "!pip install scyjava"
   ]
  },
  {
   "cell_type": "code",
   "execution_count": null,
   "id": "2af05ae1",
   "metadata": {
    "collapsed": false
   },
   "outputs": [],
   "source": [
    "from scyjava import config, jimport\n",
    "config.endpoints.append('org.openscience.cdk:cdk-bundle:2.7.1')\n",
    "SmilesParser = jimport('org.openscience.cdk.smiles.SmilesParser')\n",
    "Builder = jimport('org.openscience.cdk.silent.SilentChemObjectBuilder')\n",
    "\n",
    "sp = SmilesParser(Builder.getInstance())\n",
    "mol = sp.parseSmiles(\"CC(=O)OC1=CC=CC=C1C(=O)O\")\n",
    "print(f\"Aspirin has {mol.getAtomCount()} atoms.\")"
   ]
  }
 ],
 "metadata": {},
 "nbformat": 4,
 "nbformat_minor": 5
}
