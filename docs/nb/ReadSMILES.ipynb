{
 "cells": [
  {
   "cell_type": "code",
   "execution_count": null,
   "id": "6ccc6fcb",
   "metadata": {},
   "outputs": [],
   "source": [
    "!apt install maven"
   ]
  },
  {
   "cell_type": "code",
   "execution_count": null,
   "id": "384f5b33",
   "metadata": {},
   "outputs": [],
   "source": [
    "!pip install scyjava"
   ]
  },
  {
   "cell_type": "code",
   "execution_count": null,
   "id": "d0f75b15",
   "metadata": {
    "collapsed": false
   },
   "outputs": [],
   "source": [
    "from scyjava import config, jimport\n",
    "config.add_endpoints('org.openscience.cdk:cdk-bundle:2.7.1')\n",
    "SmilesParser = jimport('org.openscience.cdk.smiles.SmilesParser')\n",
    "Builder = jimport('org.openscience.cdk.silent.SilentChemObjectBuilder')\n",
    "\n",
    "sp = SmilesParser(Builder.getInstance())\n",
    "mol = sp.parseSmiles(\"CC(=O)OC1=CC=CC=C1C(=O)O\")\n",
    "print(\"Aspirin has \" + str(mol.getAtomCount()) + \" atoms.\")"
   ]
  }
 ],
 "metadata": {},
 "nbformat": 4,
 "nbformat_minor": 5
}
