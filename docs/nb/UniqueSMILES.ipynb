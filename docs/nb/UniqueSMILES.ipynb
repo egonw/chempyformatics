{
 "cells": [
  {
   "cell_type": "markdown",
   "id": "7bfb28b6",
   "metadata": {},
   "source": [
    "\n",
    "# Installing dependencies\n",
    "\n",
    "To use the Chemistry Development Kit (CDK) in Python you need scyjava, maven, and OpenJDK 11.\n",
    "This code only needs to be run once and is to prepare the system. If you already have\n",
    "this software installed, you can skip this step.\n"
   ]
  },
  {
   "cell_type": "code",
   "execution_count": null,
   "id": "520043ac",
   "metadata": {},
   "outputs": [],
   "source": [
    "!apt install maven openjdk-11-jdk\n",
    "!pip install scyjava\n"
   ]
  },
  {
   "cell_type": "markdown",
   "id": "7e26952c",
   "metadata": {},
   "source": [
    "\n",
    "# Running the CDK code\n",
    "\n",
    "The following code imports the CDK library (and downloads it in the background from\n",
    "Maven Central if needed), and then runs the code for this example.\n"
   ]
  },
  {
   "cell_type": "code",
   "execution_count": null,
   "id": "8aaa1678",
   "metadata": {
    "collapsed": false
   },
   "outputs": [],
   "source": [
    "from scyjava import config, jimport\n",
    "config.endpoints.append('org.openscience.cdk:cdk-bundle:2.9')\n",
    "MoleculeFactory = jimport('org.openscience.cdk.templates.MoleculeFactory')\n",
    "AtomContainerManipulator = jimport('org.openscience.cdk.tools.manipulator.AtomContainerManipulator')\n",
    "CDKHueckelAromaticityDetector = jimport('org.openscience.cdk.aromaticity.CDKHueckelAromaticityDetector')\n",
    "CDKHydrogenAdder = jimport('org.openscience.cdk.tools.CDKHydrogenAdder')\n",
    "SmilesGenerator = jimport('org.openscience.cdk.smiles.SmilesGenerator')\n",
    "\n",
    "mol = MoleculeFactory.makePhenylAmine()\n",
    "AtomContainerManipulator.percieveAtomTypesAndConfigureAtoms(mol);\n",
    "CDKHueckelAromaticityDetector.detectAromaticity(mol);\n",
    "hAdder = CDKHydrogenAdder.getInstance(mol.getBuilder())\n",
    "hAdder.addImplicitHydrogens(mol)\n",
    "generator = SmilesGenerator.unique()\n",
    "smiles = generator.createSMILES(mol)\n",
    "print(f\"{smiles}\")"
   ]
  }
 ],
 "metadata": {},
 "nbformat": 4,
 "nbformat_minor": 5
}
