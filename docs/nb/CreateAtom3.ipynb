{
 "cells": [
  {
   "cell_type": "code",
   "execution_count": null,
   "id": "9d42ae60",
   "metadata": {},
   "outputs": [],
   "source": [
    "!apt install maven"
   ]
  },
  {
   "cell_type": "code",
   "execution_count": null,
   "id": "b37a2dc3",
   "metadata": {},
   "outputs": [],
   "source": [
    "!pip install pybacting"
   ]
  },
  {
   "cell_type": "code",
   "execution_count": null,
   "id": "b0637307",
   "metadata": {
    "collapsed": false
   },
   "outputs": [],
   "source": [
    "from scyjava import config, jimport\n",
    "config.add_endpoints('org.openscience.cdk:cdk-bundle:2.7.1')\n",
    "Atom = jimport('org.openscience.cdk.silent.Atom')\n",
    "\n",
    "atom = Atom(6);\n",
    "print(atom)"
   ]
  }
 ],
 "metadata": {},
 "nbformat": 4,
 "nbformat_minor": 5
}
