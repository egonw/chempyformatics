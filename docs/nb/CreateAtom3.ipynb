{
 "cells": [
  {
   "cell_type": "code",
   "execution_count": null,
   "id": "368e903b",
   "metadata": {},
   "outputs": [],
   "source": [
    "!apt install maven"
   ]
  },
  {
   "cell_type": "code",
   "execution_count": null,
   "id": "8f294c87",
   "metadata": {},
   "outputs": [],
   "source": [
    "!pip install pybacting"
   ]
  },
  {
   "cell_type": "code",
   "execution_count": null,
   "id": "7ed12636",
   "metadata": {
    "collapsed": false
   },
   "outputs": [],
   "source": [
    "from pybacting import qudt\n",
    "\n",
    "quantity = qudt.newQuantity(1.0, \"m\")\n",
    "print(quantity)\n",
    "converted = qudt.convertTo(quantity, \"cm\");\n",
    "print(converted)"
   ]
  }
 ],
 "metadata": {},
 "nbformat": 4,
 "nbformat_minor": 5
}
