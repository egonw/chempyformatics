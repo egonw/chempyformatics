{
 "cells": [
  {
   "cell_type": "markdown",
   "id": "3f26c68e",
   "metadata": {},
   "source": [
    "\n",
    "# Installing dependencies\n",
    "\n",
    "To use the Chemistry Development Kit in Python you need scyjava, maven, and OpenJDK 11.\n"
   ]
  },
  {
   "cell_type": "code",
   "execution_count": null,
   "id": "809bad96",
   "metadata": {},
   "outputs": [],
   "source": [
    "!apt install maven openjdk-11-jdk\n",
    "!pip install scyjava\n"
   ]
  },
  {
   "cell_type": "code",
   "execution_count": null,
   "id": "ee7bb6b0",
   "metadata": {
    "collapsed": false
   },
   "outputs": [],
   "source": [
    "from scyjava import config, jimport\n",
    "config.endpoints.append('org.openscience.cdk:cdk-bundle:2.9')\n",
    "Atom = jimport('org.openscience.cdk.silent.Atom')\n",
    "\n",
    "atom = Atom(6);\n",
    "print(atom)"
   ]
  }
 ],
 "metadata": {},
 "nbformat": 4,
 "nbformat_minor": 5
}
