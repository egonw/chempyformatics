{
 "cells": [
  {
   "cell_type": "code",
   "execution_count": null,
   "id": "ff7a9b2a",
   "metadata": {},
   "outputs": [],
   "source": [
    "!apt install maven openjdk-11-jdk"
   ]
  },
  {
   "cell_type": "code",
   "execution_count": null,
   "id": "8e88988d",
   "metadata": {},
   "outputs": [],
   "source": [
    "!pip install scyjava"
   ]
  },
  {
   "cell_type": "code",
   "execution_count": null,
   "id": "c11d5ed7",
   "metadata": {
    "collapsed": false
   },
   "outputs": [],
   "source": [
    "from scyjava import config, jimport\n",
    "config.endpoints.append('org.openscience.cdk:cdk-bundle:2.9')\n",
    "Atom = jimport('org.openscience.cdk.silent.Atom')\n",
    "\n",
    "atom = Atom(6);\n",
    "print(atom)"
   ]
  }
 ],
 "metadata": {},
 "nbformat": 4,
 "nbformat_minor": 5
}
