{
 "cells": [
  {
   "cell_type": "code",
   "execution_count": null,
   "id": "df138062",
   "metadata": {},
   "outputs": [],
   "source": [
    "!apt install maven"
   ]
  },
  {
   "cell_type": "code",
   "execution_count": null,
   "id": "d72a74ce",
   "metadata": {},
   "outputs": [],
   "source": [
    "!pip install scyjava"
   ]
  },
  {
   "cell_type": "code",
   "execution_count": null,
   "id": "d8ab4bf8",
   "metadata": {
    "collapsed": false
   },
   "outputs": [],
   "source": [
    "from scyjava import config, jimport\n",
    "config.add_endpoints('org.openscience.cdk:cdk-bundle:2.7.1')\n",
    "Atom = jimport('org.openscience.cdk.silent.Atom')\n",
    "\n",
    "atom = Atom(6);\n",
    "print(atom)"
   ]
  }
 ],
 "metadata": {},
 "nbformat": 4,
 "nbformat_minor": 5
}
