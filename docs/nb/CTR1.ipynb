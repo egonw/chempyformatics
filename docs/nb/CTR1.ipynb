{
 "cells": [
  {
   "cell_type": "markdown",
   "id": "12c41d62",
   "metadata": {},
   "source": [
    "\n",
    "# Installing dependencies\n",
    "\n",
    "To use the Chemistry Development Kit (CDK) in Python you need scyjava, maven, and OpenJDK 11.\n",
    "This code only needs to be run once and is to prepare the system. If you already have\n",
    "this software installed, you can skip this step.\n"
   ]
  },
  {
   "cell_type": "code",
   "execution_count": null,
   "id": "abdba4a6",
   "metadata": {},
   "outputs": [],
   "source": [
    "!apt install maven openjdk-11-jdk\n",
    "!pip install scyjava\n"
   ]
  },
  {
   "cell_type": "markdown",
   "id": "fa0ad328",
   "metadata": {},
   "source": [
    "\n",
    "# Running the CDK code\n",
    "\n",
    "The following code imports the CDK library (and downloads it in the background from\n",
    "Maven Central if needed), and then runs the code for this example.\n"
   ]
  },
  {
   "cell_type": "code",
   "execution_count": null,
   "id": "fb7fd276",
   "metadata": {
    "collapsed": false
   },
   "outputs": [],
   "source": [
    "from scyjava import config, jimport\n",
    "config.endpoints.append('org.openscience.cdk:cdk-bundle:2.9')\n",
    "SilentChemObjectBuilder = jimport('org.openscience.cdk.silent.SilentChemObjectBuilder')\n",
    "IChemObjectReader = jimport('org.openscience.cdk.io.IChemObjectReader')\n",
    "IteratingSDFReader = jimport('org.openscience.cdk.io.iterator.IteratingSDFReader')\n",
    "GZIPInputStream = jimport('java.util.zip.GZIPInputStream')\n",
    "File = jimport('java.io.File')\n",
    "FileInputStream = jimport('java.io.FileInputStream')\n",
    "\n",
    "iterator = IteratingSDFReader(\n",
    "  GZIPInputStream(\n",
    "    FileInputStream(\n",
    "       File(\"ctr/benzodiazepine.sdf.gz\")\n",
    "    )\n",
    "  ),\n",
    "  SilentChemObjectBuilder.getInstance()\n",
    ")\n",
    "iterator.setReaderMode(\n",
    "  IChemObjectReader.Mode.STRICT\n",
    ")\n",
    "while iterator.hasNext():\n",
    "  mol = iterator.next()\n",
    "  heavyAtomCount = 0\n",
    "  for atom in mol.atoms():\n",
    "    if 1 != atom.getAtomicNumber() and \"H\" != atom.getSymbol():\n",
    "      heavyAtomCount += 1\n",
    "  print(f\"{heavyAtomCount}\")"
   ]
  }
 ],
 "metadata": {},
 "nbformat": 4,
 "nbformat_minor": 5
}
