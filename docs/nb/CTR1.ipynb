{
 "cells": [
  {
   "cell_type": "markdown",
   "id": "a005a595",
   "metadata": {},
   "source": [
    "\n",
    "# Installing dependencies\n",
    "\n",
    "To use the Chemistry Development Kit (CDK) in Python you need scyjava, maven, and OpenJDK 11.\n",
    "This code only needs to be run once and is to prepare the system. If you already have\n",
    "this software installed, you can skip this step.\n"
   ]
  },
  {
   "cell_type": "code",
   "execution_count": null,
   "id": "1ef2db50",
   "metadata": {},
   "outputs": [],
   "source": [
    "!apt install maven openjdk-11-jdk\n",
    "!pip install scyjava\n"
   ]
  },
  {
   "cell_type": "markdown",
   "id": "fa263dbb",
   "metadata": {},
   "source": [
    "\n",
    "# Running the CDK code\n",
    "\n",
    "The following code imports the CDK library (and downloads it in the background from\n",
    "Maven Central if needed), and then runs the code for this example.\n"
   ]
  },
  {
   "cell_type": "code",
   "execution_count": null,
   "id": "9d7276f3",
   "metadata": {
    "collapsed": false
   },
   "outputs": [],
   "source": [
    "from scyjava import config, jimport\n",
    "config.endpoints.append('org.openscience.cdk:cdk-bundle:2.9')\n",
    "SilentChemObjectBuilder = jimport('org.openscience.cdk.silent.SilentChemObjectBuilder')\n",
    "IChemObjectReader = jimport('org.openscience.cdk.io.IChemObjectReader')\n",
    "IteratingSDFReaderFactory = jimport('org.openscience.cdk.io.iterator.IteratingSDFReader')\n",
    "GZIPInputStream = jimport('java.util.zip.GZIPInputStream')\n",
    "File = jimport('java.io.File')\n",
    "\n",
    "iterator = IteratingSDFReader(\n",
    "  GZIPInputStream(\n",
    "    File(\"ctr/benzodiazepine.sdf.gz\")\n",
    "      .newInputStream()\n",
    "  ),\n",
    "  SilentChemObjectBuilder.getInstance()\n",
    ")\n",
    "iterator.setReaderMode(\n",
    "  IChemObjectReader.Mode.STRICT\n",
    ")\n",
    "while (iterator.hasNext()) {\n",
    "  mol = iterator.next()\n",
    "  heavyAtomCount = 0\n",
    "  for (atom in mol.atoms()) {\n",
    "    if (1 == atom.atomicNumber ||\n",
    "        \"H\" == atom.symbol) {\n",
    "      // do not count hydrogens\n",
    "    } else {\n",
    "      heavyAtomCount++\n",
    "    }\n",
    "  }\n",
    "  println heavyAtomCount\n",
    "}"
   ]
  }
 ],
 "metadata": {},
 "nbformat": 4,
 "nbformat_minor": 5
}
